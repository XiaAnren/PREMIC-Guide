{
 "cells": [
  {
   "cell_type": "markdown",
   "metadata": {},
   "source": [
    "# 多维数组"
   ]
  },
  {
   "cell_type": "markdown",
   "metadata": {},
   "source": [
    "* 前面所展示脚本的主要目的，是对工作目录的概念、数据处理常用的三个模块，以及面对复杂任务如何优化代码有一个大概的印象。  \n",
    "  现在让我们重新来过。\n",
    "* 多维数组是数据处理、机器学习等场景经常会用到的一种数据结构。  \n",
    "  对于NumPy，它是ndarray；对于PyTorch，它是Tensor。\n",
    "* 下面将从最简单的列表开始，一步步对多维数组建立起一个直观的概念。"
   ]
  },
  {
   "cell_type": "markdown",
   "metadata": {},
   "source": [
    "## 列表（List）"
   ]
  },
  {
   "cell_type": "markdown",
   "metadata": {},
   "source": [
    "* 列表是Python自带的一种数据结构，主要用于存储有序的元素集合。\n",
    "* 元素可以是不同的数据类型，包括整数、浮点数、字符串，甚至是其他列表。  \n",
    "  考虑到本次的重点在于展示“数”组，因此以下列表都只包含有整数或浮点数。"
   ]
  },
  {
   "cell_type": "markdown",
   "metadata": {},
   "source": [
    "### 创建列表"
   ]
  },
  {
   "cell_type": "markdown",
   "metadata": {},
   "source": [
    "* 最简单的创建列表方式就是用方括号将整体包裹起来，再用逗号分隔各个元素。"
   ]
  },
  {
   "cell_type": "code",
   "execution_count": 1,
   "metadata": {},
   "outputs": [],
   "source": [
    "lst = [0, 1, 2]"
   ]
  },
  {
   "cell_type": "markdown",
   "metadata": {},
   "source": [
    "* 另一种常见且更快的方法是使用列表推导式（List Comprehension）。\n",
    "* 例如我想生成一个包含20以内所有偶数的列表，一种“笨笨”的方法就是创建一个空列表，再在for循环里挨个添加元素。  \n",
    "  而使用列表推导式就能较为简洁地完成这项工作。  \n",
    "  在运行程序方面也能比使用for循环要更快。"
   ]
  },
  {
   "cell_type": "code",
   "execution_count": null,
   "metadata": {},
   "outputs": [
    {
     "data": {
      "text/plain": [
       "[0, 2, 4, 6, 8, 10, 12, 14, 16, 18, 20]"
      ]
     },
     "execution_count": 2,
     "metadata": {},
     "output_type": "execute_result"
    }
   ],
   "source": [
    "[index * 2 for index in range(11)]"
   ]
  },
  {
   "cell_type": "markdown",
   "metadata": {},
   "source": [
    "### 添加元素"
   ]
  },
  {
   "cell_type": "markdown",
   "metadata": {},
   "source": [
    "* 使用`append`在列表末尾添加元素。"
   ]
  },
  {
   "cell_type": "code",
   "execution_count": null,
   "metadata": {},
   "outputs": [
    {
     "data": {
      "text/plain": [
       "[0, 1, 2, 3]"
      ]
     },
     "execution_count": 3,
     "metadata": {},
     "output_type": "execute_result"
    }
   ],
   "source": [
    "lst = [0, 1, 2]\n",
    "lst.append(3)\n",
    "lst"
   ]
  },
  {
   "cell_type": "markdown",
   "metadata": {},
   "source": [
    "* 使用`insert`在列表指定索引位置添加元素。"
   ]
  },
  {
   "cell_type": "code",
   "execution_count": 4,
   "metadata": {},
   "outputs": [
    {
     "data": {
      "text/plain": [
       "[-1, 0, 1, 2]"
      ]
     },
     "execution_count": 4,
     "metadata": {},
     "output_type": "execute_result"
    }
   ],
   "source": [
    "lst = [0, 1, 2]\n",
    "# 使列表的第0个元素是-1\n",
    "lst.insert(0, -1)\n",
    "lst"
   ]
  },
  {
   "cell_type": "markdown",
   "metadata": {},
   "source": [
    "* 使用`extend`在列表末尾添加另一个列表里面的所有元素。"
   ]
  },
  {
   "cell_type": "code",
   "execution_count": 5,
   "metadata": {},
   "outputs": [
    {
     "data": {
      "text/plain": [
       "[0, 1, 2, 3, 4, 5]"
      ]
     },
     "execution_count": 5,
     "metadata": {},
     "output_type": "execute_result"
    }
   ],
   "source": [
    "lst = [0, 1, 2]\n",
    "lst.extend([3, 4, 5])\n",
    "lst"
   ]
  },
  {
   "cell_type": "markdown",
   "metadata": {},
   "source": [
    "### 索引与切片"
   ]
  },
  {
   "cell_type": "markdown",
   "metadata": {},
   "source": [
    "* 列表中的每个元素都对应一个索引。\n",
    "* 索引从左往右数是以0开始，依次加1；从右往左数则是以-1开始，依次减1。\n",
    "* 可以通过索引来访问列表中的指定元素。"
   ]
  },
  {
   "cell_type": "code",
   "execution_count": 6,
   "metadata": {},
   "outputs": [
    {
     "name": "stdout",
     "output_type": "stream",
     "text": [
      "1 2 3\n",
      "3 2 1\n"
     ]
    }
   ],
   "source": [
    "lst = [1, 2, 3]\n",
    "print(lst[0], lst[1], lst[2])\n",
    "print(lst[-1], lst[-2], lst[-3])"
   ]
  },
  {
   "cell_type": "markdown",
   "metadata": {},
   "source": [
    "* 借助索引也可以修改指定元素的值。"
   ]
  },
  {
   "cell_type": "code",
   "execution_count": null,
   "metadata": {},
   "outputs": [
    {
     "data": {
      "text/plain": [
       "[1, 1.5, 3]"
      ]
     },
     "execution_count": 7,
     "metadata": {},
     "output_type": "execute_result"
    }
   ],
   "source": [
    "lst = [1, 2, 3]\n",
    "lst[1] = 1.5\n",
    "lst"
   ]
  },
  {
   "cell_type": "markdown",
   "metadata": {},
   "source": [
    "* 基于索引的切片操作可以得到指定范围内的所有元素。\n",
    "* 起始或结束的索引缺省时表示切片到底。\n",
    "* 切片可以指定步长（默认是1），即相邻两个元素之间索引的差值。\n",
    "* 步长是负数时表示从右往左取，元素索引的差值此时则对应步长的绝对值。"
   ]
  },
  {
   "cell_type": "code",
   "execution_count": 8,
   "metadata": {},
   "outputs": [
    {
     "name": "stdout",
     "output_type": "stream",
     "text": [
      "[1, 2, 3, 4, 5]\n",
      "[1, 3, 5]\n",
      "[5, 3]\n",
      "[5, 3, 1]\n"
     ]
    }
   ],
   "source": [
    "lst = [1, 2, 3, 4, 5]\n",
    "# 表示左闭右开的第[0,5)个元素\n",
    "print(lst[0:5])\n",
    "# 表示左闭右开的第[0,5)个元素，步长为2进行切片\n",
    "print(lst[0:5:2])\n",
    "# 表示从右往左进行切片，步长为2\n",
    "# 起始索引为-1，对应最右边的元素；结束索引为0，对应最左边的元素\n",
    "# 但由于切片操作的范围是左闭右开的，因此最左边的元素并没有输出出来\n",
    "print(lst[-1:0:-2])\n",
    "# 结束索引缺省，此时就能一直切到列表的最左端\n",
    "print(lst[-1::-2])"
   ]
  },
  {
   "cell_type": "markdown",
   "metadata": {},
   "source": [
    "## 字典（Dictionary）"
   ]
  },
  {
   "cell_type": "markdown",
   "metadata": {},
   "source": [
    "* 字典是一种无序的键值对（Key-Value Pair）数据结构。\n",
    "* 字典的键最好尽量简单（因为需要使用键来对值进行索引），一般常用字符串或者整数作为字典的键。  \n",
    "  键与键之间不能重复。\n",
    "* 字典的值可以是任意的数据类型。  \n",
    "  同样考虑到本次重点在“数”组，因此以下字典的值都是只包含了整数或浮点数的列表。"
   ]
  },
  {
   "cell_type": "markdown",
   "metadata": {},
   "source": [
    "### 创建字典"
   ]
  },
  {
   "cell_type": "markdown",
   "metadata": {},
   "source": [
    "* 创建字典首先使用花括号将整体包裹起来，再在键与值之间用冒号分隔、在不同键值对之间用逗号分隔。"
   ]
  },
  {
   "cell_type": "code",
   "execution_count": 9,
   "metadata": {},
   "outputs": [],
   "source": [
    "dic = {\"x\": [0, 1, 2], \"y\": [0, 2, 4]}"
   ]
  },
  {
   "cell_type": "markdown",
   "metadata": {},
   "source": [
    "### 基于键的简单操作"
   ]
  },
  {
   "cell_type": "code",
   "execution_count": 10,
   "metadata": {},
   "outputs": [
    {
     "name": "stdout",
     "output_type": "stream",
     "text": [
      "[0, 1, 2]\n",
      "{'x': [0, 1, 2], 'y': [0, 0, 0], 'z': [1, 1, 1]}\n"
     ]
    }
   ],
   "source": [
    "dic = {\"x\": [0, 1, 2], \"y\": [0, 2, 4]}\n",
    "# 取值\n",
    "print(dic[\"x\"])\n",
    "# 修改或添加键值对\n",
    "dic[\"y\"] = [0, 0, 0]\n",
    "dic[\"z\"] = [1, 1, 1]\n",
    "print(dic)"
   ]
  },
  {
   "cell_type": "markdown",
   "metadata": {},
   "source": [
    "### 几种遍历"
   ]
  },
  {
   "cell_type": "markdown",
   "metadata": {},
   "source": [
    "* 使用`keys()`可以得到字典里所有键所组成的列表。  \n",
    "  （原本是这样的，但Ruff提示不用`keys()`也行）。  \n",
    "  基于此也可以判断字典是否包含某个指定的键。\n",
    "* 使用`values()`可以得到字典里所有值所组成的列表。\n",
    "* 使用`items()`可以得到字典里所有键值对（元组形式）所组成的列表。"
   ]
  },
  {
   "cell_type": "code",
   "execution_count": 11,
   "metadata": {},
   "outputs": [
    {
     "name": "stdout",
     "output_type": "stream",
     "text": [
      "keys():\n",
      "    x\n",
      "    y\n",
      "values():\n",
      "    [0, 1, 2]\n",
      "    [0, 2, 4]\n",
      "items():\n",
      "    x, [0, 1, 2]\n",
      "    y, [0, 2, 4]\n"
     ]
    }
   ],
   "source": [
    "dic = {\"x\": [0, 1, 2], \"y\": [0, 2, 4]}\n",
    "\n",
    "print(\"keys():\")\n",
    "for key in dic:\n",
    "    print(f\"    {key}\")\n",
    "\n",
    "print(\"values():\")\n",
    "for value in dic.values():\n",
    "    print(f\"    {value}\")\n",
    "\n",
    "print(\"items():\")\n",
    "for key, value in dic.items():\n",
    "    print(f\"    {key}, {value}\")"
   ]
  },
  {
   "cell_type": "markdown",
   "metadata": {},
   "source": [
    "## DataFrame"
   ]
  },
  {
   "cell_type": "markdown",
   "metadata": {},
   "source": [
    "* 基于上一段所展示的字典，Pandas提供了一个类似于表格的数据类型，即DataFrame。\n",
    "* DataFrame的操作方法并非本次重点，因此这里只简单展示一种创建过程。"
   ]
  },
  {
   "cell_type": "markdown",
   "metadata": {},
   "source": [
    "### 创建DataFrame"
   ]
  },
  {
   "cell_type": "markdown",
   "metadata": {},
   "source": [
    "* 可以在一个字典对象的基础上创建DataFrame。  \n",
    "  此时各个值一般是列表或类似于列表的一维有序元素集合。  \n",
    "  元素的数据类型可以是任意的，这里同样只展示了整数或浮点数的情形。\n",
    "* 这样得到的DataFrame将会以字典的键作为列名（即表头），以字典的值作为每列的数据。\n",
    "* 可以看到输出出来的DataFrame默认在最左边多出来了没有表头的一列。  \n",
    "  这是它的行索引（或行号），标示着右边的数据是第几行。"
   ]
  },
  {
   "cell_type": "code",
   "execution_count": 12,
   "metadata": {},
   "outputs": [
    {
     "data": {
      "text/html": [
       "<div>\n",
       "<style scoped>\n",
       "    .dataframe tbody tr th:only-of-type {\n",
       "        vertical-align: middle;\n",
       "    }\n",
       "\n",
       "    .dataframe tbody tr th {\n",
       "        vertical-align: top;\n",
       "    }\n",
       "\n",
       "    .dataframe thead th {\n",
       "        text-align: right;\n",
       "    }\n",
       "</style>\n",
       "<table border=\"1\" class=\"dataframe\">\n",
       "  <thead>\n",
       "    <tr style=\"text-align: right;\">\n",
       "      <th></th>\n",
       "      <th>x</th>\n",
       "      <th>y</th>\n",
       "    </tr>\n",
       "  </thead>\n",
       "  <tbody>\n",
       "    <tr>\n",
       "      <th>0</th>\n",
       "      <td>0</td>\n",
       "      <td>0</td>\n",
       "    </tr>\n",
       "    <tr>\n",
       "      <th>1</th>\n",
       "      <td>1</td>\n",
       "      <td>2</td>\n",
       "    </tr>\n",
       "    <tr>\n",
       "      <th>2</th>\n",
       "      <td>2</td>\n",
       "      <td>4</td>\n",
       "    </tr>\n",
       "  </tbody>\n",
       "</table>\n",
       "</div>"
      ],
      "text/plain": [
       "   x  y\n",
       "0  0  0\n",
       "1  1  2\n",
       "2  2  4"
      ]
     },
     "execution_count": 12,
     "metadata": {},
     "output_type": "execute_result"
    }
   ],
   "source": [
    "import pandas as pd\n",
    "\n",
    "dic = {\"x\": [0, 1, 2], \"y\": [0, 2, 4]}\n",
    "pd.DataFrame(dic)"
   ]
  },
  {
   "cell_type": "markdown",
   "metadata": {},
   "source": [
    "## 多维数组（N-Dimensional Array）"
   ]
  },
  {
   "cell_type": "markdown",
   "metadata": {},
   "source": [
    "* 让我们为前面的DataFrame换个表头。\n",
    "* 然后假想这里的行索引和列索引实际对应着的是某个变量的值。  \n",
    "  例如最上面的列索引表示`x`的值，最左边的行索引表示`y`的值。  \n",
    "  此时DataFrame内的数据就可以看作是`x * y`，即：\n",
    "  <table>\n",
    "    <tr>\n",
    "      <td align=\"center\">xy</td>\n",
    "      <td align=\"center\">x=1</td>\n",
    "      <td align=\"center\">x=2</td>\n",
    "    </tr>\n",
    "    <tr>\n",
    "      <td align=\"center\">y=0</td>\n",
    "      <td align=\"center\"> 0 </td>\n",
    "      <td align=\"center\"> 0 </td>\n",
    "    </tr>\n",
    "    <tr>\n",
    "      <td align=\"center\">y=1</td>\n",
    "      <td align=\"center\"> 1 </td>\n",
    "      <td align=\"center\"> 2 </td>\n",
    "    </tr>\n",
    "    <tr>\n",
    "      <td align=\"center\">y=2</td>\n",
    "      <td align=\"center\"> 2 </td>\n",
    "      <td align=\"center\"> 4 </td>\n",
    "    </tr>\n",
    "  </table>"
   ]
  },
  {
   "cell_type": "code",
   "execution_count": 13,
   "metadata": {},
   "outputs": [
    {
     "data": {
      "text/html": [
       "<div>\n",
       "<style scoped>\n",
       "    .dataframe tbody tr th:only-of-type {\n",
       "        vertical-align: middle;\n",
       "    }\n",
       "\n",
       "    .dataframe tbody tr th {\n",
       "        vertical-align: top;\n",
       "    }\n",
       "\n",
       "    .dataframe thead th {\n",
       "        text-align: right;\n",
       "    }\n",
       "</style>\n",
       "<table border=\"1\" class=\"dataframe\">\n",
       "  <thead>\n",
       "    <tr style=\"text-align: right;\">\n",
       "      <th></th>\n",
       "      <th>1</th>\n",
       "      <th>2</th>\n",
       "    </tr>\n",
       "  </thead>\n",
       "  <tbody>\n",
       "    <tr>\n",
       "      <th>0</th>\n",
       "      <td>0</td>\n",
       "      <td>0</td>\n",
       "    </tr>\n",
       "    <tr>\n",
       "      <th>1</th>\n",
       "      <td>1</td>\n",
       "      <td>2</td>\n",
       "    </tr>\n",
       "    <tr>\n",
       "      <th>2</th>\n",
       "      <td>2</td>\n",
       "      <td>4</td>\n",
       "    </tr>\n",
       "  </tbody>\n",
       "</table>\n",
       "</div>"
      ],
      "text/plain": [
       "   1  2\n",
       "0  0  0\n",
       "1  1  2\n",
       "2  2  4"
      ]
     },
     "execution_count": 13,
     "metadata": {},
     "output_type": "execute_result"
    }
   ],
   "source": [
    "import pandas as pd\n",
    "\n",
    "dic = {1: [0, 1, 2], 2: [0, 2, 4]}\n",
    "pd.DataFrame(dic)"
   ]
  },
  {
   "cell_type": "markdown",
   "metadata": {},
   "source": [
    "* 事实上，当我们把行索引和列索引都去掉，自然而然就能得到一个最简单的多维数组。"
   ]
  },
  {
   "cell_type": "code",
   "execution_count": 14,
   "metadata": {},
   "outputs": [
    {
     "data": {
      "text/plain": [
       "array([[0, 0],\n",
       "       [1, 2],\n",
       "       [2, 4]])"
      ]
     },
     "execution_count": 14,
     "metadata": {},
     "output_type": "execute_result"
    }
   ],
   "source": [
    "import pandas as pd\n",
    "\n",
    "dic = {1: [0, 1, 2], 2: [0, 2, 4]}\n",
    "pd.DataFrame(dic).to_numpy()"
   ]
  },
  {
   "cell_type": "markdown",
   "metadata": {},
   "source": [
    "* 在列表中放入列表同样能得到相同的效果。\n",
    "* 当然这种做法并不直观，一般仅用来创建一维的数组，很少像这样创建多维数组。"
   ]
  },
  {
   "cell_type": "code",
   "execution_count": 15,
   "metadata": {},
   "outputs": [
    {
     "data": {
      "text/plain": [
       "array([[0, 0],\n",
       "       [1, 2],\n",
       "       [2, 4]])"
      ]
     },
     "execution_count": 15,
     "metadata": {},
     "output_type": "execute_result"
    }
   ],
   "source": [
    "import numpy as np\n",
    "\n",
    "np.array([[0, 0], [1, 2], [2, 4]])"
   ]
  },
  {
   "cell_type": "markdown",
   "metadata": {},
   "source": [
    "* 相比类似表格的DataFrmae，多维数组方便的点在于不要求显式地给出各个轴的值，即上面的行索引和列索引，也即`x`和`y`。\n",
    "* 事实上，在实际应用中`x`和`y`的值一方面可能会很多（几十、几百，甚至上千），另一方面也并不总像上面只包含整数（浮点数才是常态）。\n",
    "* 下面将以前面的`x * y`为例，一点点创建越来越复杂的多维数组。"
   ]
  },
  {
   "cell_type": "code",
   "execution_count": 16,
   "metadata": {},
   "outputs": [
    {
     "name": "stdout",
     "output_type": "stream",
     "text": [
      "x = array([1, 2])\n",
      "y = array([[0],\n",
      "       [1],\n",
      "       [2]])\n",
      "x * y = array([[0, 0],\n",
      "       [1, 2],\n",
      "       [2, 4]])\n",
      "----------分隔线----------\n",
      "x = array([0, 1, 2, 3, 4])\n",
      "y = array([[0. ],\n",
      "       [0.2],\n",
      "       [0.4],\n",
      "       [0.6],\n",
      "       [0.8],\n",
      "       [1. ]])\n",
      "x * y = array([[0. , 0. , 0. , 0. , 0. ],\n",
      "       [0. , 0.2, 0.4, 0.6, 0.8],\n",
      "       [0. , 0.4, 0.8, 1.2, 1.6],\n",
      "       [0. , 0.6, 1.2, 1.8, 2.4],\n",
      "       [0. , 0.8, 1.6, 2.4, 3.2],\n",
      "       [0. , 1. , 2. , 3. , 4. ]])\n"
     ]
    }
   ],
   "source": [
    "import numpy as np\n",
    "\n",
    "# 1行2列的x\n",
    "x = np.array([1, 2])\n",
    "# 先创建1行3列的y，再转置成3行1列\n",
    "# 这里的-1代表缺省，最后的具体值由NumPy自动算出来\n",
    "y = np.array([0, 1, 2]).reshape(-1, 1)\n",
    "# 1行2列的x能与3行1列的y直接相乘\n",
    "# 这是NumPy的一大优势，即允许行列数量不同的数组之间直接进行运算\n",
    "# 这一机制称为广播（Broadcasting）\n",
    "# 详见https://numpy.org/doc/stable/user/basics.broadcasting.html\n",
    "# 原理在于NumPy在计算前会自动将合适的数组扩展成相同的行列数，对应这里就是3行2列\n",
    "print(f\"{x = }\")\n",
    "print(f\"{y = }\")\n",
    "print(f\"{x * y = }\")\n",
    "print(\"----------分隔线----------\")\n",
    "# 操作与上面类似\n",
    "# 区别在于创建了更长的、包含浮点数的x与y\n",
    "x = np.arange(5)\n",
    "y = np.linspace(0, 1, 6).reshape(-1, 1)\n",
    "print(f\"{x = }\")\n",
    "print(f\"{y = }\")\n",
    "print(f\"{x * y = }\")"
   ]
  },
  {
   "cell_type": "markdown",
   "metadata": {},
   "source": [
    "* 让我们再进一步尝试计算出一个三维的数组。\n",
    "* 为了检验计算出来的确实是一个三维数组，可以查看内置的shape属性。  \n",
    "  以较为简单的二维数组为例，m行n列数组的shape就是(m, n)，简记为m×n。\n",
    "* 下面展示了将一维数组、2行1列的二维数组、3层1行1列的三维数组相乘的结果。  \n",
    "  最终所得到的是一个3层2行1列的三维数组。"
   ]
  },
  {
   "cell_type": "code",
   "execution_count": 17,
   "metadata": {},
   "outputs": [
    {
     "name": "stdout",
     "output_type": "stream",
     "text": [
      "x = array([1])\n",
      "y = array([[1],\n",
      "       [2]])\n",
      "z = array([[[1]],\n",
      "\n",
      "       [[2]],\n",
      "\n",
      "       [[3]]])\n",
      "x * y * z = array([[[1],\n",
      "        [2]],\n",
      "\n",
      "       [[2],\n",
      "        [4]],\n",
      "\n",
      "       [[3],\n",
      "        [6]]])\n",
      "----------分隔线----------\n",
      "x.shape = (1,)\n",
      "y.shape = (2, 1)\n",
      "z.shape = (3, 1, 1)\n",
      "(x * y * z).shape = (3, 2, 1)\n"
     ]
    }
   ],
   "source": [
    "import numpy as np\n",
    "\n",
    "# 一维数组\n",
    "x = np.arange(1, 2)\n",
    "# 2行1列的二维数组\n",
    "y = np.arange(1, 3).reshape(-1, 1)\n",
    "# 3层1行1列的三维数组\n",
    "z = np.arange(1, 4).reshape(-1, 1, 1)\n",
    "print(f\"{x = }\")\n",
    "print(f\"{y = }\")\n",
    "print(f\"{z = }\")\n",
    "print(f\"{x * y * z = }\")\n",
    "print(\"----------分隔线----------\")\n",
    "print(f\"{x.shape = }\")\n",
    "print(f\"{y.shape = }\")\n",
    "print(f\"{z.shape = }\")\n",
    "print(f\"{(x * y * z).shape = }\")"
   ]
  },
  {
   "cell_type": "markdown",
   "metadata": {},
   "source": [
    "* 当我们对多维数组有了一个大概印象后，就可以从头开始，对相关方法进行系统性的介绍了。"
   ]
  },
  {
   "cell_type": "markdown",
   "metadata": {},
   "source": [
    "### 创建多维数组"
   ]
  },
  {
   "cell_type": "markdown",
   "metadata": {},
   "source": [
    "* `np.array()`可以将列表转换为数组。"
   ]
  },
  {
   "cell_type": "code",
   "execution_count": null,
   "metadata": {},
   "outputs": [
    {
     "data": {
      "text/plain": [
       "array([[1, 2, 3],\n",
       "       [4, 5, 6]])"
      ]
     },
     "execution_count": 18,
     "metadata": {},
     "output_type": "execute_result"
    }
   ],
   "source": [
    "import numpy as np\n",
    "\n",
    "lst = [[1, 2, 3], [4, 5, 6]]\n",
    "np.array(lst)"
   ]
  },
  {
   "cell_type": "markdown",
   "metadata": {},
   "source": [
    "* 创建指定shape的、所有元素都相同的数组：\n",
    "  <table>\n",
    "    <tr>\n",
    "      <td align=\"center\"></td>\n",
    "      <td align=\"center\">所有元素都是0</td>\n",
    "      <td align=\"center\">所有元素都是1</td>\n",
    "    </tr>\n",
    "    <tr>\n",
    "      <td align=\"center\">给定<code>shape</code></td>\n",
    "      <td align=\"center\"><code>np.zeros(shape)</code></td>\n",
    "      <td align=\"center\"><code>np.ones(shape)</code></td>\n",
    "    </tr>\n",
    "    <tr>\n",
    "      <td align=\"center\">与给定数组（<code>arr</code>）的<code>shape</code>相同</td>\n",
    "      <td align=\"center\"><code>np.zeros_like(arr)</code></td>\n",
    "      <td align=\"center\"><code>np.ones_like(arr)</code></td>\n",
    "    </tr>\n",
    "  </table>"
   ]
  },
  {
   "cell_type": "code",
   "execution_count": 19,
   "metadata": {},
   "outputs": [
    {
     "name": "stdout",
     "output_type": "stream",
     "text": [
      "np.zeros(shape) = array([[0., 0., 0.],\n",
      "       [0., 0., 0.]])\n",
      "np.ones(shape) = array([[1., 1., 1.],\n",
      "       [1., 1., 1.]])\n",
      "----------分隔线----------\n",
      "np.zeros_like(arr) = array([[0, 0],\n",
      "       [0, 0]])\n",
      "np.ones_like(arr) = array([[1, 1],\n",
      "       [1, 1]])\n"
     ]
    }
   ],
   "source": [
    "import numpy as np\n",
    "\n",
    "shape = (2, 3)\n",
    "print(f\"{np.zeros(shape) = }\")\n",
    "print(f\"{np.ones(shape) = }\")\n",
    "print(\"----------分隔线----------\")\n",
    "lst = [[1, 2], [3, 4]]\n",
    "arr = np.array(lst)\n",
    "print(f\"{np.zeros_like(arr) = }\")\n",
    "print(f\"{np.ones_like(arr) = }\")"
   ]
  },
  {
   "cell_type": "markdown",
   "metadata": {},
   "source": [
    "* 创建一定范围内均匀间隔的一维数组：\n",
    "  <table>\n",
    "    <tr>\n",
    "      <td align=\"center\"></td>\n",
    "      <td align=\"center\"><code>np.arange(start, stop, step)</code></td>\n",
    "      <td align=\"center\"><code>np.linspace(start, stop, num)</code></td>\n",
    "    </tr>\n",
    "    <tr>\n",
    "      <td align=\"center\">范围</code></td>\n",
    "      <td align=\"center\">左闭右开：[start, stop)，start默认为0</code></td>\n",
    "      <td align=\"center\">闭区间：[start, stop]</td>\n",
    "    </tr>\n",
    "    <tr>\n",
    "      <td align=\"center\">不同参数</td>\n",
    "      <td align=\"center\"><code>step</code>：步长，默认为1</td>\n",
    "      <td align=\"center\"><code>num</code>：元素数量，默认为50</td>\n",
    "    </tr>\n",
    "  </table>"
   ]
  },
  {
   "cell_type": "code",
   "execution_count": 20,
   "metadata": {},
   "outputs": [
    {
     "name": "stdout",
     "output_type": "stream",
     "text": [
      "np.arange(3) = array([0, 1, 2])\n",
      "np.linspace(1, 3, 9) = array([1.  , 1.25, 1.5 , 1.75, 2.  , 2.25, 2.5 , 2.75, 3.  ])\n"
     ]
    }
   ],
   "source": [
    "import numpy as np\n",
    "\n",
    "print(f\"{np.arange(3) = }\")\n",
    "print(f\"{np.linspace(1, 3, 9) = }\")"
   ]
  },
  {
   "cell_type": "markdown",
   "metadata": {},
   "source": [
    "### 修改shape"
   ]
  },
  {
   "cell_type": "markdown",
   "metadata": {},
   "source": [
    "* `arr.reshape(shape)`可以将`arr`转换成给定`shape`。\n",
    "* `arr.T`可以将`arr`转置。"
   ]
  },
  {
   "cell_type": "code",
   "execution_count": 21,
   "metadata": {},
   "outputs": [
    {
     "name": "stdout",
     "output_type": "stream",
     "text": [
      "arr = array([0, 1, 2, 3, 4, 5])\n",
      "arr.reshape(2, 3) = array([[0, 1, 2],\n",
      "       [3, 4, 5]])\n",
      "arr.reshape(2, 3).T = array([[0, 3],\n",
      "       [1, 4],\n",
      "       [2, 5]])\n"
     ]
    }
   ],
   "source": [
    "import numpy as np\n",
    "\n",
    "arr = np.arange(6)\n",
    "print(f\"{arr = }\")\n",
    "print(f\"{arr.reshape(2, 3) = }\")\n",
    "print(f\"{arr.reshape(2, 3).T = }\")"
   ]
  },
  {
   "cell_type": "markdown",
   "metadata": {},
   "source": [
    "### 索引与切片"
   ]
  },
  {
   "cell_type": "markdown",
   "metadata": {},
   "source": [
    "* 多维数组可以使用与列表类似的方法进行索引和切片，或基于此修改数组内元素的值。"
   ]
  },
  {
   "cell_type": "code",
   "execution_count": 22,
   "metadata": {},
   "outputs": [
    {
     "name": "stdout",
     "output_type": "stream",
     "text": [
      "arr = array([[0, 1],\n",
      "       [2, 3],\n",
      "       [4, 5]])\n",
      "----------分隔线----------\n",
      "arr[0, 0] = 0\n",
      "arr[0:2, :] = array([[0, 1],\n",
      "       [2, 3]])\n",
      "arr[0:2] = array([[0, 1],\n",
      "       [2, 3]])\n",
      "----------分隔线----------\n",
      "arr = array([[1, 1],\n",
      "       [2, 3],\n",
      "       [4, 5]])\n",
      "arr = array([[1, 1],\n",
      "       [1, 1],\n",
      "       [4, 5]])\n"
     ]
    }
   ],
   "source": [
    "import numpy as np\n",
    "\n",
    "arr = np.arange(6).reshape(3, 2)\n",
    "print(f\"{arr = }\")\n",
    "print(\"----------分隔线----------\")\n",
    "# 索引得到单个元素\n",
    "print(f\"{arr[0, 0] = }\")\n",
    "# 索引得到给定范围内的元素\n",
    "print(f\"{arr[0:2, :] = }\")\n",
    "# 上下两行代码等效\n",
    "print(f\"{arr[0:2] = }\")\n",
    "print(\"----------分隔线----------\")\n",
    "# 修改单个元素\n",
    "arr[0, 0] = 1\n",
    "print(f\"{arr = }\")\n",
    "# 修改给定范围内的元素\n",
    "arr[0:2] = 1\n",
    "print(f\"{arr = }\")"
   ]
  }
 ],
 "metadata": {
  "kernelspec": {
   "display_name": "python_3.11",
   "language": "python",
   "name": "python3"
  },
  "language_info": {
   "codemirror_mode": {
    "name": "ipython",
    "version": 3
   },
   "file_extension": ".py",
   "mimetype": "text/x-python",
   "name": "python",
   "nbconvert_exporter": "python",
   "pygments_lexer": "ipython3",
   "version": "3.11.5"
  }
 },
 "nbformat": 4,
 "nbformat_minor": 2
}
