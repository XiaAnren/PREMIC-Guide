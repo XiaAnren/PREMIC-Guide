{
 "cells": [
  {
   "cell_type": "markdown",
   "metadata": {},
   "source": [
    "# 数据分析三剑客\n",
    "* NumPy\n",
    "  * 使用场景：高性能数值计算\n",
    "  * 用户指南：<https://numpy.org/doc/stable/user>\n",
    "* Pandas\n",
    "  * 使用场景：结构化数据（表格）处理\n",
    "  * 用户指南：<https://pandas.pydata.org/pandas-docs/stable/user_guide>\n",
    "* Matplotlib\n",
    "  * 使用场景：数据可视化\n",
    "  * 用户指南：<https://matplotlib.org/stable/users/index.html>"
   ]
  },
  {
   "cell_type": "code",
   "execution_count": 1,
   "metadata": {},
   "outputs": [],
   "source": [
    "import os\n",
    "from pathlib import Path\n",
    "\n",
    "import matplotlib.pyplot as plt\n",
    "import numpy as np\n",
    "import pandas as pd\n",
    "\n",
    "rootpath = Path(\n",
    "    \"/public/home/XiaAnRen/data3/vscode/python_3.11\"\n",
    "    \"/Tutorial/tutorial/postprocess\",\n",
    ")\n",
    "os.chdir(rootpath)"
   ]
  },
  {
   "cell_type": "markdown",
   "metadata": {},
   "source": [
    "## NumPy\n",
    "* 主要特点：\n",
    "  * 底层是通过C语言实现的，因此相比使用纯Python的方法，NumPy速度更快、运算效率也更高。\n",
    "  * 支持向量化编程，即可以将数组看作整体进行计算。\n",
    "* 使用技巧：\n",
    "  * 当想要实现某一功能时（求统计量、找最值的索引、积分等），优先考虑NumPy是否有该方法（询问AI），或者能否借助已有的功能，不要重复造轮子（麻烦而且效率低）。\n",
    "  * 编程时尽可能以数组为单位，这样写代码和实际运行起来都会很快。  \n",
    "    不要学AI的写法，即创建空数组，再通过for循环依次计算并赋值。  \n",
    "    原因在于for循环运行在Python层面，在数据量非常大的时候慢得尤为显著，这样写就浪费了NumPy提供的高效运算能力。\n",
    "* 示例代码：\n",
    "  * 以《大气辐射学》第三次作业为例，即计算$A_\\mathrm{oz}$随$x$的变化情况，其中$x$的范围为$[0,2]$，$A_\\mathrm{oz}$由下式给出："
   ]
  },
  {
   "cell_type": "markdown",
   "metadata": {},
   "source": [
    "\\begin{align*}\n",
    "        A_\\mathrm{oz}^\\mathrm{vis}(x)\n",
    "  ={} & \\frac{0.02118x}{1 + 0.042x + 0.000323x^2}\n",
    "        \\text{；}\n",
    "        \\\\[8pt]\n",
    "        A_\\mathrm{oz}^\\mathrm{uv}(x)\n",
    "  ={} & \\frac{1.082x}{(1 + 138.6x)^{0.805}} + \\frac{0.0658x}{1 + (103.6x)^3}\n",
    "        \\text{。}\n",
    "\\end{align*}"
   ]
  },
  {
   "cell_type": "code",
   "execution_count": 2,
   "metadata": {},
   "outputs": [],
   "source": [
    "# 使用np.linspace创建了一个范围[0,2]，共101个元素的数组\n",
    "# 类似的还有np.arange\n",
    "# 两者区别在于：\n",
    "# np.linspace是闭区间，np.arange是左闭右开区间\n",
    "# np.linspace的步长会受浮点数精度影响出现波动（详见main02.csv的第一列）\n",
    "# 因此：\n",
    "# np.linspace适合对步长的精度没有要求的场景，此时能够显式给出范围及元素数量\n",
    "# np.arange适合需要严格控制步长为定值的场景\n",
    "x = np.linspace(0, 2, 101)\n",
    "# 以数组为单位进行计算\n",
    "# 这里的np.power(x, n)即x的n次方\n",
    "vis = 0.02118 * x / (1 + 0.042 * x + 0.000323 * np.power(x, 2))\n",
    "uv = (1.082 * x / np.power(1 + 138.6 * x, 0.805)) + (\n",
    "    0.0658 * x / (1 + np.power(103.6 * x, 3))\n",
    ")"
   ]
  },
  {
   "cell_type": "code",
   "execution_count": 3,
   "metadata": {},
   "outputs": [
    {
     "data": {
      "text/plain": [
       "array([0.  , 0.02, 0.04, 0.06, 0.08, 0.1 , 0.12, 0.14, 0.16, 0.18, 0.2 ,\n",
       "       0.22, 0.24, 0.26, 0.28, 0.3 , 0.32, 0.34, 0.36, 0.38, 0.4 , 0.42,\n",
       "       0.44, 0.46, 0.48, 0.5 , 0.52, 0.54, 0.56, 0.58, 0.6 , 0.62, 0.64,\n",
       "       0.66, 0.68, 0.7 , 0.72, 0.74, 0.76, 0.78, 0.8 , 0.82, 0.84, 0.86,\n",
       "       0.88, 0.9 , 0.92, 0.94, 0.96, 0.98, 1.  , 1.02, 1.04, 1.06, 1.08,\n",
       "       1.1 , 1.12, 1.14, 1.16, 1.18, 1.2 , 1.22, 1.24, 1.26, 1.28, 1.3 ,\n",
       "       1.32, 1.34, 1.36, 1.38, 1.4 , 1.42, 1.44, 1.46, 1.48, 1.5 , 1.52,\n",
       "       1.54, 1.56, 1.58, 1.6 , 1.62, 1.64, 1.66, 1.68, 1.7 , 1.72, 1.74,\n",
       "       1.76, 1.78, 1.8 , 1.82, 1.84, 1.86, 1.88, 1.9 , 1.92, 1.94, 1.96,\n",
       "       1.98, 2.  ])"
      ]
     },
     "execution_count": 3,
     "metadata": {},
     "output_type": "execute_result"
    }
   ],
   "source": [
    "x"
   ]
  },
  {
   "cell_type": "code",
   "execution_count": 4,
   "metadata": {},
   "outputs": [
    {
     "data": {
      "text/plain": [
       "array([0.  , 0.02, 0.04, 0.06, 0.08, 0.1 , 0.12, 0.14, 0.16, 0.18, 0.2 ,\n",
       "       0.22, 0.24, 0.26, 0.28, 0.3 , 0.32, 0.34, 0.36, 0.38, 0.4 , 0.42,\n",
       "       0.44, 0.46, 0.48, 0.5 , 0.52, 0.54, 0.56, 0.58, 0.6 , 0.62, 0.64,\n",
       "       0.66, 0.68, 0.7 , 0.72, 0.74, 0.76, 0.78, 0.8 , 0.82, 0.84, 0.86,\n",
       "       0.88, 0.9 , 0.92, 0.94, 0.96, 0.98, 1.  , 1.02, 1.04, 1.06, 1.08,\n",
       "       1.1 , 1.12, 1.14, 1.16, 1.18, 1.2 , 1.22, 1.24, 1.26, 1.28, 1.3 ,\n",
       "       1.32, 1.34, 1.36, 1.38, 1.4 , 1.42, 1.44, 1.46, 1.48, 1.5 , 1.52,\n",
       "       1.54, 1.56, 1.58, 1.6 , 1.62, 1.64, 1.66, 1.68, 1.7 , 1.72, 1.74,\n",
       "       1.76, 1.78, 1.8 , 1.82, 1.84, 1.86, 1.88, 1.9 , 1.92, 1.94, 1.96,\n",
       "       1.98, 2.  ])"
      ]
     },
     "execution_count": 4,
     "metadata": {},
     "output_type": "execute_result"
    }
   ],
   "source": [
    "np.arange(0, 2.001, 0.02)"
   ]
  },
  {
   "cell_type": "markdown",
   "metadata": {},
   "source": [
    "## Pandas\n",
    "* 主要特点：\n",
    "  * 以类似表格的形式读取文件（文本文档、CSV、Excel等）并进行处理（表头、更友好的行列索引、一次性计算所有统计量、合并多个表格等）；\n",
    "  * 可以将数据明文存储到表格文件中。\n",
    "* 示例代码：\n",
    "  * Pandas不是本文件重点，因此仅简单展示了创建数据对象并将其保存到CSV文件的过程。"
   ]
  },
  {
   "cell_type": "code",
   "execution_count": 5,
   "metadata": {},
   "outputs": [],
   "source": [
    "# 将字典转换为DataFrame对象\n",
    "# 字典中每一个键值对分别对应DataFrame的表头和该列数据\n",
    "data = pd.DataFrame({\"x\": x, \"vis\": vis, \"uv\": uv})\n",
    "# 保存为CSV文件并且不添加行索引\n",
    "data.to_csv(\"main02.csv\", index=False)"
   ]
  },
  {
   "cell_type": "code",
   "execution_count": 6,
   "metadata": {},
   "outputs": [
    {
     "data": {
      "text/html": [
       "<div>\n",
       "<style scoped>\n",
       "    .dataframe tbody tr th:only-of-type {\n",
       "        vertical-align: middle;\n",
       "    }\n",
       "\n",
       "    .dataframe tbody tr th {\n",
       "        vertical-align: top;\n",
       "    }\n",
       "\n",
       "    .dataframe thead th {\n",
       "        text-align: right;\n",
       "    }\n",
       "</style>\n",
       "<table border=\"1\" class=\"dataframe\">\n",
       "  <thead>\n",
       "    <tr style=\"text-align: right;\">\n",
       "      <th></th>\n",
       "      <th>x</th>\n",
       "      <th>vis</th>\n",
       "      <th>uv</th>\n",
       "    </tr>\n",
       "  </thead>\n",
       "  <tbody>\n",
       "    <tr>\n",
       "      <th>0</th>\n",
       "      <td>0.00</td>\n",
       "      <td>0.000000</td>\n",
       "      <td>0.000000</td>\n",
       "    </tr>\n",
       "    <tr>\n",
       "      <th>1</th>\n",
       "      <td>0.02</td>\n",
       "      <td>0.000423</td>\n",
       "      <td>0.007565</td>\n",
       "    </tr>\n",
       "    <tr>\n",
       "      <th>2</th>\n",
       "      <td>0.04</td>\n",
       "      <td>0.000846</td>\n",
       "      <td>0.009576</td>\n",
       "    </tr>\n",
       "    <tr>\n",
       "      <th>3</th>\n",
       "      <td>0.06</td>\n",
       "      <td>0.001268</td>\n",
       "      <td>0.010785</td>\n",
       "    </tr>\n",
       "    <tr>\n",
       "      <th>4</th>\n",
       "      <td>0.08</td>\n",
       "      <td>0.001689</td>\n",
       "      <td>0.011651</td>\n",
       "    </tr>\n",
       "    <tr>\n",
       "      <th>...</th>\n",
       "      <td>...</td>\n",
       "      <td>...</td>\n",
       "      <td>...</td>\n",
       "    </tr>\n",
       "    <tr>\n",
       "      <th>96</th>\n",
       "      <td>1.92</td>\n",
       "      <td>0.037590</td>\n",
       "      <td>0.023123</td>\n",
       "    </tr>\n",
       "    <tr>\n",
       "      <th>97</th>\n",
       "      <td>1.94</td>\n",
       "      <td>0.037951</td>\n",
       "      <td>0.023170</td>\n",
       "    </tr>\n",
       "    <tr>\n",
       "      <th>98</th>\n",
       "      <td>1.96</td>\n",
       "      <td>0.038311</td>\n",
       "      <td>0.023217</td>\n",
       "    </tr>\n",
       "    <tr>\n",
       "      <th>99</th>\n",
       "      <td>1.98</td>\n",
       "      <td>0.038672</td>\n",
       "      <td>0.023264</td>\n",
       "    </tr>\n",
       "    <tr>\n",
       "      <th>100</th>\n",
       "      <td>2.00</td>\n",
       "      <td>0.039031</td>\n",
       "      <td>0.023310</td>\n",
       "    </tr>\n",
       "  </tbody>\n",
       "</table>\n",
       "<p>101 rows × 3 columns</p>\n",
       "</div>"
      ],
      "text/plain": [
       "        x       vis        uv\n",
       "0    0.00  0.000000  0.000000\n",
       "1    0.02  0.000423  0.007565\n",
       "2    0.04  0.000846  0.009576\n",
       "3    0.06  0.001268  0.010785\n",
       "4    0.08  0.001689  0.011651\n",
       "..    ...       ...       ...\n",
       "96   1.92  0.037590  0.023123\n",
       "97   1.94  0.037951  0.023170\n",
       "98   1.96  0.038311  0.023217\n",
       "99   1.98  0.038672  0.023264\n",
       "100  2.00  0.039031  0.023310\n",
       "\n",
       "[101 rows x 3 columns]"
      ]
     },
     "execution_count": 6,
     "metadata": {},
     "output_type": "execute_result"
    }
   ],
   "source": [
    "data"
   ]
  },
  {
   "cell_type": "markdown",
   "metadata": {},
   "source": [
    "## Matplotlib\n",
    "* 主要特点：\n",
    "  * 画图。\n",
    "* 使用技巧：\n",
    "  * 有时候需要基于`Axes`同时绘制多个子图，那么不妨在即使只有一张子图的情况下也使用相同的绘制流程。  \n",
    "    即创建画布与子图，再分别在各个子图上进行绘制。  \n",
    "    这样的好处在于流程以及所使用的方法都是固定的，不用专门在“绘制一张子图”与“绘制多张子图”之间转换思维方式。  \n",
    "    因此尽量不要像AI那样类似`plt.plot`地画图。\n",
    "* 示例代码：\n",
    "  * 将$A_\\mathrm{oz}$随$x$的变化情况进行可视化。"
   ]
  },
  {
   "cell_type": "code",
   "execution_count": 7,
   "metadata": {},
   "outputs": [
    {
     "data": {
      "image/png": "[encoded data removed]",
      "text/plain": [
       "<Figure size 600x500 with 1 Axes>"
      ]
     },
     "metadata": {},
     "output_type": "display_data"
    }
   ],
   "source": [
    "# 创建画布与子图\n",
    "fig = plt.figure(figsize=(6, 5))\n",
    "ax = fig.subplots()\n",
    "# 添加网格线\n",
    "ax.grid(linestyle=\":\", linewidth=0.3, color=\"black\")\n",
    "# 显示次刻度\n",
    "ax.minorticks_on()\n",
    "# 设置刻度字号\n",
    "ax.tick_params(labelsize=16)\n",
    "# 绘制折线图\n",
    "ax.plot(\n",
    "    x,\n",
    "    vis * 100,\n",
    "    color=\"red\",\n",
    "    linestyle=\"-\",\n",
    "    alpha=0.65,\n",
    "    label=\"$A_\\\\mathrm{oz}^\\\\mathrm{vis}(x)$\",\n",
    ")\n",
    "ax.plot(\n",
    "    x,\n",
    "    uv * 100,\n",
    "    color=\"blue\",\n",
    "    linestyle=\"-\",\n",
    "    alpha=0.65,\n",
    "    label=\"$A_\\\\mathrm{oz}^\\\\mathrm{uv}(x)$\",\n",
    ")\n",
    "# 设置x、y轴范围\n",
    "ax.set_xlim(0, 2)\n",
    "ax.set_ylim(0, 4)\n",
    "# 设置x、y轴标签\n",
    "ax.set_xlabel(\n",
    "    \"$\\\\mathrm{ Ozone \\\\ Amount \\\\ \\\\left( cm , NTP \\\\right) }$\",\n",
    "    fontsize=16,\n",
    ")\n",
    "ax.set_ylabel(\n",
    "    \"$\\\\mathrm{ Absorption \\\\ \\\\left( \\\\% \\\\ Solar \\\\ Flux \\\\right) }$\",\n",
    "    fontsize=16,\n",
    ")\n",
    "# 添加图例\n",
    "ax.legend(\n",
    "    loc=(0.005, 0.78),\n",
    "    fontsize=16,\n",
    "    facecolor=\"white\",\n",
    "    framealpha=1,\n",
    "    edgecolor=\"1\",\n",
    ")\n",
    "# 标识子图\n",
    "ax.text(\n",
    "    0.98,\n",
    "    0.035,\n",
    "    \"Fig. 6\",\n",
    "    ha=\"right\",\n",
    "    transform=ax.transAxes,\n",
    "    fontsize=16,\n",
    "    bbox={\"facecolor\": \"white\", \"alpha\": 1, \"lw\": 0},\n",
    ")\n",
    "# 保存图片\n",
    "plt.savefig(\"main02.png\", bbox_inches=\"tight\")"
   ]
  }
 ],
 "metadata": {
  "kernelspec": {
   "display_name": "python_3.11",
   "language": "python",
   "name": "python3"
  },
  "language_info": {
   "codemirror_mode": {
    "name": "ipython",
    "version": 3
   },
   "file_extension": ".py",
   "mimetype": "text/x-python",
   "name": "python",
   "nbconvert_exporter": "python",
   "pygments_lexer": "ipython3",
   "version": "3.11.5"
  }
 },
 "nbformat": 4,
 "nbformat_minor": 2
}
