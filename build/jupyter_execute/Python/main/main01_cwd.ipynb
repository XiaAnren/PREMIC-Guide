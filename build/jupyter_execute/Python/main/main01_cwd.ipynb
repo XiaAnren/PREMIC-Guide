{
 "cells": [
  {
   "cell_type": "markdown",
   "metadata": {},
   "source": [
    "# 工作目录\n",
    "* 工作目录指Python解释器在执行代码时所在的目录（类似使用`pwd`命令所输出的内容）。\n",
    "* `.py`文件内的所有相对路径以及本地库的导入都基于当前工作目录。\n",
    "* 当报错提醒找不到指定文件或模块时可以考虑是不是工作目录设置有问题。\n",
    "* 使用`os.getcwd()`或`Path.cwd()`可以查看当前工作目录。\n",
    "* 默认工作目录并非文件所在目录，而一般是启动Python解释器时的位置：\n",
    "  * 对于Xshell、MobaXterm等终端，这里的“位置”对应`pwd`的输出；\n",
    "  * 对于VS Code，这里的“位置”对应连接服务器所选择的文件夹路径。"
   ]
  },
  {
   "cell_type": "markdown",
   "metadata": {},
   "source": [
    "## 调整工作目录\n",
    "* 通常使用`os.chdir`调整工作目录：\n",
    "  * 对于`.py`，有通用的`os.chdir(Path(__file__).resolve().parent)`调整工作目录为文件实际所在目录；\n",
    "  * 对于`.ipynb`，由于Jupyter Notebook等交互式环境中的代码是逐块执行的，不将其视为整体文件，没有明确的`__file__`，因此需要显式地给出绝对路径。\n",
    "* 示例代码中（在此之前作了软链接）：\n",
    "  * `/data3/XiaAnRen/vscode/python_3.11`是VS Code连接服务器所选择的文件夹路径；\n",
    "  * `/public/home/XiaAnRen/data3/vscode/python_3.11/Tutorial/tutorial/stdlibs`是使用VS Code复制**软链接后文件的绝对路径**再删去文件名所得到的结果；\n",
    "  * `/public/home/XiaAnRen/share/tutorial/stdlibs`是文件的实际路径。"
   ]
  },
  {
   "cell_type": "code",
   "execution_count": 1,
   "metadata": {},
   "outputs": [],
   "source": [
    "import os\n",
    "from pathlib import Path"
   ]
  },
  {
   "cell_type": "code",
   "execution_count": 2,
   "metadata": {},
   "outputs": [
    {
     "data": {
      "text/plain": [
       "PosixPath('/data3/XiaAnRen/vscode/python_3.11')"
      ]
     },
     "execution_count": 2,
     "metadata": {},
     "output_type": "execute_result"
    }
   ],
   "source": [
    "Path.cwd()"
   ]
  },
  {
   "cell_type": "code",
   "execution_count": 3,
   "metadata": {},
   "outputs": [],
   "source": [
    "rootpath = (\n",
    "    \"/public/home/XiaAnRen/data3/vscode/python_3.11\"\n",
    "    \"/Tutorial/tutorial/stdlibs\"\n",
    ")\n",
    "os.chdir(Path(rootpath))"
   ]
  },
  {
   "cell_type": "code",
   "execution_count": 4,
   "metadata": {},
   "outputs": [
    {
     "data": {
      "text/plain": [
       "PosixPath('/public/home/XiaAnRen/share/tutorial/stdlibs')"
      ]
     },
     "execution_count": 4,
     "metadata": {},
     "output_type": "execute_result"
    }
   ],
   "source": [
    "Path.cwd()"
   ]
  }
 ],
 "metadata": {
  "kernelspec": {
   "display_name": "python_3.11",
   "language": "python",
   "name": "python3"
  },
  "language_info": {
   "codemirror_mode": {
    "name": "ipython",
    "version": 3
   },
   "file_extension": ".py",
   "mimetype": "text/x-python",
   "name": "python",
   "nbconvert_exporter": "python",
   "pygments_lexer": "ipython3",
   "version": "3.11.5"
  }
 },
 "nbformat": 4,
 "nbformat_minor": 2
}